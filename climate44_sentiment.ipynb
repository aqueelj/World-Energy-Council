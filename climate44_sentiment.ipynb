{
  "nbformat": 4,
  "nbformat_minor": 0,
  "metadata": {
    "colab": {
      "name": "climate44_sentiment.ipynb",
      "provenance": [],
      "collapsed_sections": []
    },
    "kernelspec": {
      "name": "python3",
      "display_name": "Python 3"
    }
  },
  "cells": [
    {
      "cell_type": "code",
      "metadata": {
        "id": "lrHL1JuRjBQ8",
        "colab_type": "code",
        "outputId": "d8a0fa2e-81a1-4234-8471-78073c16b8bb",
        "colab": {
          "base_uri": "https://localhost:8080/",
          "height": 55
        }
      },
      "source": [
        "#General\n",
        "import os\n",
        "import re\n",
        "import sklearn\n",
        "import nltk\n",
        "import numpy as np\n",
        "import pandas as pd\n",
        "import matplotlib.pyplot as plt \n",
        "\n",
        "# Preprocessing\n",
        "from nltk.tokenize import word_tokenize\n",
        "nltk.download('punkt')\n",
        "from nltk.corpus import stopwords\n",
        "from sklearn.model_selection import train_test_split\n",
        "from sklearn.feature_extraction.text import TfidfVectorizer\n",
        "from sklearn.feature_selection import SelectKBest,chi2\n"
      ],
      "execution_count": 110,
      "outputs": [
        {
          "output_type": "stream",
          "text": [
            "[nltk_data] Downloading package punkt to /root/nltk_data...\n",
            "[nltk_data]   Package punkt is already up-to-date!\n"
          ],
          "name": "stdout"
        }
      ]
    },
    {
      "cell_type": "code",
      "metadata": {
        "id": "KXFG29cyjSW1",
        "colab_type": "code",
        "outputId": "09ee06e4-057a-4641-f429-a265629849c3",
        "colab": {
          "base_uri": "https://localhost:8080/",
          "height": 206
        }
      },
      "source": [
        "\n",
        "df = pd.read_csv('twitter_sentiment_data.csv',encoding='utf-8')\n",
        "#df.drop(df.columns[1],axis=1,inplace=True)\n",
        "df = df.drop_duplicates()  \n",
        "df.head()\n",
        "\n"
      ],
      "execution_count": 111,
      "outputs": [
        {
          "output_type": "execute_result",
          "data": {
            "text/html": [
              "<div>\n",
              "<style scoped>\n",
              "    .dataframe tbody tr th:only-of-type {\n",
              "        vertical-align: middle;\n",
              "    }\n",
              "\n",
              "    .dataframe tbody tr th {\n",
              "        vertical-align: top;\n",
              "    }\n",
              "\n",
              "    .dataframe thead th {\n",
              "        text-align: right;\n",
              "    }\n",
              "</style>\n",
              "<table border=\"1\" class=\"dataframe\">\n",
              "  <thead>\n",
              "    <tr style=\"text-align: right;\">\n",
              "      <th></th>\n",
              "      <th>sentiment</th>\n",
              "      <th>message</th>\n",
              "      <th>tweetid</th>\n",
              "    </tr>\n",
              "  </thead>\n",
              "  <tbody>\n",
              "    <tr>\n",
              "      <th>0</th>\n",
              "      <td>-1</td>\n",
              "      <td>@tiniebeany climate change is an interesting h...</td>\n",
              "      <td>792927353886371840</td>\n",
              "    </tr>\n",
              "    <tr>\n",
              "      <th>1</th>\n",
              "      <td>1</td>\n",
              "      <td>RT @NatGeoChannel: Watch #BeforeTheFlood right...</td>\n",
              "      <td>793124211518832641</td>\n",
              "    </tr>\n",
              "    <tr>\n",
              "      <th>2</th>\n",
              "      <td>1</td>\n",
              "      <td>Fabulous! Leonardo #DiCaprio's film on #climat...</td>\n",
              "      <td>793124402388832256</td>\n",
              "    </tr>\n",
              "    <tr>\n",
              "      <th>3</th>\n",
              "      <td>1</td>\n",
              "      <td>RT @Mick_Fanning: Just watched this amazing do...</td>\n",
              "      <td>793124635873275904</td>\n",
              "    </tr>\n",
              "    <tr>\n",
              "      <th>4</th>\n",
              "      <td>2</td>\n",
              "      <td>RT @cnalive: Pranita Biswasi, a Lutheran from ...</td>\n",
              "      <td>793125156185137153</td>\n",
              "    </tr>\n",
              "  </tbody>\n",
              "</table>\n",
              "</div>"
            ],
            "text/plain": [
              "   sentiment  ...             tweetid\n",
              "0         -1  ...  792927353886371840\n",
              "1          1  ...  793124211518832641\n",
              "2          1  ...  793124402388832256\n",
              "3          1  ...  793124635873275904\n",
              "4          2  ...  793125156185137153\n",
              "\n",
              "[5 rows x 3 columns]"
            ]
          },
          "metadata": {
            "tags": []
          },
          "execution_count": 111
        }
      ]
    },
    {
      "cell_type": "code",
      "metadata": {
        "id": "_Uzm8qnpsySh",
        "colab_type": "code",
        "colab": {}
      },
      "source": [
        "#split x and y\n",
        "x=df['message']\n",
        "y=df['sentiment']"
      ],
      "execution_count": 0,
      "outputs": []
    },
    {
      "cell_type": "code",
      "metadata": {
        "id": "IKS_1hZ_lVgI",
        "colab_type": "code",
        "colab": {}
      },
      "source": [
        "#stemming\n",
        "def stemming(words):\n",
        "    ps = nltk.stem.SnowballStemmer('english')\n",
        "    #new = []\n",
        "    stem_words = [ps.stem(x) for x in words]\n",
        "    return stem_words"
      ],
      "execution_count": 0,
      "outputs": []
    },
    {
      "cell_type": "code",
      "metadata": {
        "id": "0oZmfyx1oT6U",
        "colab_type": "code",
        "colab": {}
      },
      "source": [
        "#preprocess\n",
        "\n",
        "\n",
        "def preprocess(sentence):\n",
        "    #sentence = contractions.fix(sentence)             # Replace contractions in string \n",
        "    #sentence = re.sub('@\\w+',\"\",str(sentence))        # remove mentions\n",
        "    #sentence = re.sub('#\\w+',\"\",str(sentence))        # remove hashtags\n",
        "    sentence = re.sub('http\\S+',\"\",str(sentence))     # remove URLs\n",
        "    #sentence = re.sub('[^\\w\\s]',\" \",str(sentence))    # remove punc\n",
        "    sentence = re.sub('[^a-zA-Z]',\" \",str(sentence))  # remove everything other then text\n",
        "    \n",
        "    sents = word_tokenize(sentence)                   # Tokenization\n",
        "    sents = stemming(sents)                           #stemming\n",
        "   \n",
        "\n",
        "    \n",
        "    return sents\n",
        "\n"
      ],
      "execution_count": 0,
      "outputs": []
    },
    {
      "cell_type": "code",
      "metadata": {
        "id": "WINvC__t6nkI",
        "colab_type": "code",
        "colab": {
          "base_uri": "https://localhost:8080/",
          "height": 242
        },
        "outputId": "66cfa6b8-7a95-412a-fcf4-a075f7125f89"
      },
      "source": [
        "#Remove words smaller than 3 characters , preprocess and join words together\n",
        "\n",
        "x=x.apply(lambda x: ' '.join([w for w in x.split() if len(w)>3]))\n",
        "x=x.apply(preprocess)\n",
        "#x\n",
        "\n",
        "\n",
        "for i in range(len(x)):\n",
        "    x[i] = ' '.join(x[i])\n",
        "\n",
        "x"
      ],
      "execution_count": 115,
      "outputs": [
        {
          "output_type": "execute_result",
          "data": {
            "text/plain": [
              "0        tiniebeani climat chang interest hustl global ...\n",
              "1        natgeochannel watch beforetheflood right here ...\n",
              "2        fabul leonardo dicaprio s film climat chang br...\n",
              "3        mick fan just watch this amaz documentari leon...\n",
              "4        cnaliv pranita biswasi lutheran from odisha gi...\n",
              "                               ...                        \n",
              "43938    dear realdonaldtrump yeah right human mediat c...\n",
              "43939    what will your respect parti prevent climat ch...\n",
              "43940    mikkil poll show climat chang lowest global co...\n",
              "43941    taehbeingextra still can q t believ this taehy...\n",
              "43942    likeabat zachhal wealthi fossil fuel industri ...\n",
              "Name: message, Length: 43943, dtype: object"
            ]
          },
          "metadata": {
            "tags": []
          },
          "execution_count": 115
        }
      ]
    },
    {
      "cell_type": "code",
      "metadata": {
        "id": "1jKp7C2A1aNG",
        "colab_type": "code",
        "colab": {}
      },
      "source": [
        "#TF-IDF feature extraction\n",
        "\n",
        "tfidf_vectorizer = TfidfVectorizer(max_df=0.90, min_df=2, max_features=1000, stop_words='english')\n",
        "# TF-IDF feature matrix\n",
        "tfidf = tfidf_vectorizer.fit_transform(x)\n",
        "chi_tfidf.shape"
      ],
      "execution_count": 0,
      "outputs": []
    },
    {
      "cell_type": "code",
      "metadata": {
        "id": "vgwVFQennMe8",
        "colab_type": "code",
        "colab": {}
      },
      "source": [
        "#Apply Kbest feature selection\n",
        "from sklearn.feature_selection import SelectKBest,chi2\n",
        "K = 900\n",
        "vectorizer_chi2 = SelectKBest(chi2,k=K)\n",
        "chi_tfidf = vectorizer_chi2.fit_transform(tfidf,y)\n",
        "#chi_test_corpus_tf_idf = vectorizer_chi2.transform(test_corpus_tf_idf)\n"
      ],
      "execution_count": 0,
      "outputs": []
    },
    {
      "cell_type": "code",
      "metadata": {
        "id": "HJ6bhXdqJmvT",
        "colab_type": "code",
        "colab": {}
      },
      "source": [
        "#train test split\n",
        "from sklearn.linear_model import LogisticRegression\n",
        "from sklearn import metrics\n",
        "X_train,X_test,y_train,y_test=train_test_split(chi_tfidf,y,test_size=0.33)\n",
        "\n"
      ],
      "execution_count": 0,
      "outputs": []
    },
    {
      "cell_type": "code",
      "metadata": {
        "id": "nf9x0bSRuZbi",
        "colab_type": "code",
        "colab": {
          "base_uri": "https://localhost:8080/",
          "height": 206
        },
        "outputId": "f46eda90-44d2-43a9-8c74-28a903a54059"
      },
      "source": [
        "#Logistic Regression\n",
        "lreg = LogisticRegression(multi_class='auto')\n",
        "lreg.fit(X_train, y_train) # training the model\n",
        "\n",
        "prediction = lreg.predict(X_test) # predicting on the validation set\n",
        "accuracy = metrics.accuracy_score(y_test, prediction)\n",
        "print('Accuracy: {:.2f}'.format(accuracy))\n",
        "#prediction_int = prediction[:,1] >= 0.3 # if prediction is greater than or equal to 0.3 than 1 else 0\n",
        "#prediction_int = prediction_int.astype(np.int)\n",
        "\n",
        "#f1_score(yvalid, prediction_int) # calculating f1 score"
      ],
      "execution_count": 69,
      "outputs": [
        {
          "output_type": "stream",
          "text": [
            "Accuracy: 0.67\n"
          ],
          "name": "stdout"
        },
        {
          "output_type": "stream",
          "text": [
            "/usr/local/lib/python3.6/dist-packages/sklearn/linear_model/_logistic.py:940: ConvergenceWarning: lbfgs failed to converge (status=1):\n",
            "STOP: TOTAL NO. of ITERATIONS REACHED LIMIT.\n",
            "\n",
            "Increase the number of iterations (max_iter) or scale the data as shown in:\n",
            "    https://scikit-learn.org/stable/modules/preprocessing.html\n",
            "Please also refer to the documentation for alternative solver options:\n",
            "    https://scikit-learn.org/stable/modules/linear_model.html#logistic-regression\n",
            "  extra_warning_msg=_LOGISTIC_SOLVER_CONVERGENCE_MSG)\n"
          ],
          "name": "stderr"
        }
      ]
    },
    {
      "cell_type": "code",
      "metadata": {
        "id": "CGyWYE10-5qV",
        "colab_type": "code",
        "colab": {
          "base_uri": "https://localhost:8080/",
          "height": 223
        },
        "outputId": "3459e15c-c187-4f08-9e26-c0c5be922659"
      },
      "source": [
        "#SVM\n",
        "from sklearn import svm\n",
        "from sklearn.svm import SVC\n",
        "\n",
        "sv = SVC(decision_function_shape='ovo')\n",
        "sv.fit(X_train, y_train)\n",
        "prediction = sv.predict(X_test) # predicting on the test set\n",
        "print(metrics.classification_report(y_test, prediction))"
      ],
      "execution_count": 109,
      "outputs": [
        {
          "output_type": "stream",
          "text": [
            "              precision    recall  f1-score   support\n",
            "\n",
            "          -1       0.73      0.37      0.50      1277\n",
            "           0       0.63      0.36      0.46      2598\n",
            "           1       0.70      0.89      0.79      7578\n",
            "           2       0.71      0.65      0.68      3049\n",
            "\n",
            "    accuracy                           0.70     14502\n",
            "   macro avg       0.69      0.57      0.60     14502\n",
            "weighted avg       0.69      0.70      0.68     14502\n",
            "\n"
          ],
          "name": "stdout"
        }
      ]
    },
    {
      "cell_type": "code",
      "metadata": {
        "id": "BXmFbHgQH5KR",
        "colab_type": "code",
        "colab": {
          "base_uri": "https://localhost:8080/",
          "height": 36
        },
        "outputId": "a678142f-e94c-42ff-bd17-dfcd131599d8"
      },
      "source": [
        "#Complement NB\n",
        "from sklearn import naive_bayes\n",
        "\n",
        "cnb = naive_bayes.ComplementNB(norm='boolean')\n",
        "cnb.fit(X_train, y_train)\n",
        "prediction = cnb.predict(X_test) # predicting on the test set\n",
        "accuracy = metrics.accuracy_score(y_test, prediction)\n",
        "print('Accuracy: {:.2f}'.format(accuracy))"
      ],
      "execution_count": 82,
      "outputs": [
        {
          "output_type": "stream",
          "text": [
            "Accuracy: 0.60\n"
          ],
          "name": "stdout"
        }
      ]
    },
    {
      "cell_type": "code",
      "metadata": {
        "id": "5vw-iM4DKSjq",
        "colab_type": "code",
        "colab": {
          "base_uri": "https://localhost:8080/",
          "height": 36
        },
        "outputId": "66491e7b-b800-4e3f-ee3a-7e6f5492a15b"
      },
      "source": [
        "#Multi-layer Perceptron\n",
        "from sklearn.neural_network import MLPClassifier\n",
        "mlp = MLPClassifier(hidden_layer_sizes=(100,50),alpha=0.01, learning_rate_init=0.1,learning_rate='adaptive',random_state=1)\n",
        "mlp.fit(X_train, y_train)\n",
        "prediction = mlp.predict(X_test) # predicting on the test set\n",
        "accuracy = metrics.accuracy_score(y_test, prediction)\n",
        "print('Accuracy: {:.2f}'.format(accuracy))"
      ],
      "execution_count": 103,
      "outputs": [
        {
          "output_type": "stream",
          "text": [
            "Accuracy: 0.65\n"
          ],
          "name": "stdout"
        }
      ]
    },
    {
      "cell_type": "code",
      "metadata": {
        "id": "QOFnQqNzQAOq",
        "colab_type": "code",
        "colab": {}
      },
      "source": [
        "#MLP with Randomized Search CV\n",
        "from sklearn.model_selection import RandomizedSearchCV\n",
        "\n",
        "parameter_space = {\n",
        "    'hidden_layer_sizes': [(100,),(150,100),(150,)],\n",
        "    'activation': ['tanh', 'relu'],\n",
        "    'solver': ['sgd', 'adam'],\n",
        "    'alpha': [0.01,0.05],\n",
        "    'learning_rate': ['constant','adaptive'],\n",
        "}\n",
        "\n",
        "clf = RandomizedSearchCV(mlp, parameter_space)\n",
        "clf.fit(X_train, y_train)\n",
        "print('Best parameters found:\\n', clf.best_params_)\n"
      ],
      "execution_count": 0,
      "outputs": []
    },
    {
      "cell_type": "code",
      "metadata": {
        "id": "I5P89xpBicxH",
        "colab_type": "code",
        "colab": {
          "base_uri": "https://localhost:8080/",
          "height": 223
        },
        "outputId": "99c736a4-df55-4490-ce51-4d5e5f790eef"
      },
      "source": [
        "prediction = clf.predict(X_test) # predicting on the test set\n",
        "#accuracy = metrics.accuracy_score(y_test, prediction)\n",
        "#print('Accuracy: {:.2f}'.format(accuracy))\n",
        "print(metrics.classification_report(y_test, prediction))"
      ],
      "execution_count": 108,
      "outputs": [
        {
          "output_type": "stream",
          "text": [
            "              precision    recall  f1-score   support\n",
            "\n",
            "          -1       0.62      0.43      0.51      1277\n",
            "           0       0.59      0.38      0.46      2598\n",
            "           1       0.72      0.85      0.78      7578\n",
            "           2       0.68      0.68      0.68      3049\n",
            "\n",
            "    accuracy                           0.69     14502\n",
            "   macro avg       0.65      0.58      0.61     14502\n",
            "weighted avg       0.68      0.69      0.68     14502\n",
            "\n"
          ],
          "name": "stdout"
        }
      ]
    },
    {
      "cell_type": "code",
      "metadata": {
        "id": "XWSHDkl5yrgj",
        "colab_type": "code",
        "colab": {
          "base_uri": "https://localhost:8080/",
          "height": 223
        },
        "outputId": "cc5e4dc6-7b0d-42e3-f1c5-ca50f6d9f2e8"
      },
      "source": [
        "#Bagged SVM\n",
        "from sklearn.ensemble import BaggingClassifier\n",
        "bsv = BaggingClassifier(base_estimator=SVC(), n_estimators=31, random_state=1, n_jobs=-1).fit(X_train, y_train)\n",
        "prediction = bsv.predict(X_test) # predicting on the test set\n",
        "print(metrics.classification_report(y_test, prediction))"
      ],
      "execution_count": 121,
      "outputs": [
        {
          "output_type": "stream",
          "text": [
            "              precision    recall  f1-score   support\n",
            "\n",
            "          -1       0.73      0.36      0.48      1328\n",
            "           0       0.61      0.39      0.48      2536\n",
            "           1       0.71      0.89      0.79      7616\n",
            "           2       0.73      0.66      0.69      3022\n",
            "\n",
            "    accuracy                           0.70     14502\n",
            "   macro avg       0.70      0.57      0.61     14502\n",
            "weighted avg       0.70      0.70      0.69     14502\n",
            "\n"
          ],
          "name": "stdout"
        }
      ]
    }
  ]
}